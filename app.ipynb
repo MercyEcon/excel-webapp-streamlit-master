{
 "cells": [
  {
   "cell_type": "code",
   "execution_count": 1,
   "metadata": {},
   "outputs": [],
   "source": [
    "#!pip3 install streamlit"
   ]
  },
  {
   "cell_type": "code",
   "execution_count": 4,
   "metadata": {},
   "outputs": [],
   "source": [
    "import pandas as pd\n",
    "import streamlit as st\n",
    "import plotly.express as px\n",
    "from PIL import Image"
   ]
  },
  {
   "cell_type": "code",
   "execution_count": 5,
   "metadata": {},
   "outputs": [
    {
     "data": {
      "text/plain": [
       "DeltaGenerator(_root_container=0, _provided_cursor=None, _parent=None, _block_type=None, _form_data=None)"
      ]
     },
     "execution_count": 5,
     "metadata": {},
     "output_type": "execute_result"
    }
   ],
   "source": [
    "st.set_page_config(page_title='Survey Results')\n",
    "st.header('Survey Results 2021')\n",
    "st.subheader('Was the tutorial helpful?')"
   ]
  },
  {
   "cell_type": "code",
   "execution_count": 6,
   "metadata": {},
   "outputs": [],
   "source": [
    "### --- LOAD DATAFRAME\n",
    "excel_file = 'Survey_Results.xlsx'\n",
    "sheet_name = 'DATA'\n",
    "\n",
    "df = pd.read_excel(excel_file,\n",
    "                   sheet_name=sheet_name,\n",
    "                   usecols='B:D',\n",
    "                   header=3)"
   ]
  },
  {
   "cell_type": "code",
   "execution_count": 7,
   "metadata": {},
   "outputs": [],
   "source": [
    "df_participants = pd.read_excel(excel_file,\n",
    "                                sheet_name= sheet_name,\n",
    "                                usecols='F:G',\n",
    "                                header=3)\n",
    "df_participants.dropna(inplace=True)"
   ]
  },
  {
   "cell_type": "code",
   "execution_count": 8,
   "metadata": {},
   "outputs": [],
   "source": [
    "# --- STREAMLIT SELECTION\n",
    "department = df['Department'].unique().tolist()\n",
    "ages = df['Age'].unique().tolist()\n",
    "\n",
    "age_selection = st.slider('Age:',\n",
    "                        min_value= min(ages),\n",
    "                        max_value= max(ages),\n",
    "                        value=(min(ages),max(ages)))\n",
    "\n",
    "department_selection = st.multiselect('Department:',\n",
    "                                    department,\n",
    "                                    default=department)"
   ]
  },
  {
   "cell_type": "code",
   "execution_count": 9,
   "metadata": {},
   "outputs": [
    {
     "data": {
      "text/plain": [
       "DeltaGenerator(_root_container=0, _provided_cursor=None, _parent=None, _block_type=None, _form_data=None)"
      ]
     },
     "execution_count": 9,
     "metadata": {},
     "output_type": "execute_result"
    }
   ],
   "source": [
    "# --- FILTER DATAFRAME BASED ON SELECTION\n",
    "mask = (df['Age'].between(*age_selection)) & (df['Department'].isin(department_selection))\n",
    "number_of_result = df[mask].shape[0]\n",
    "st.markdown(f'*Available Results: {number_of_result}*')"
   ]
  },
  {
   "cell_type": "code",
   "execution_count": 10,
   "metadata": {},
   "outputs": [],
   "source": [
    "# --- GROUP DATAFRAME AFTER SELECTION\n",
    "df_grouped = df[mask].groupby(by=['Rating']).count()[['Age']]\n",
    "df_grouped = df_grouped.rename(columns={'Age': 'Votes'})\n",
    "df_grouped = df_grouped.reset_index()"
   ]
  },
  {
   "cell_type": "code",
   "execution_count": 11,
   "metadata": {},
   "outputs": [
    {
     "data": {
      "text/plain": [
       "DeltaGenerator(_root_container=0, _provided_cursor=None, _parent=None, _block_type=None, _form_data=None)"
      ]
     },
     "execution_count": 11,
     "metadata": {},
     "output_type": "execute_result"
    }
   ],
   "source": [
    "# --- PLOT BAR CHART\n",
    "bar_chart = px.bar(df_grouped,\n",
    "                   x='Rating',\n",
    "                   y='Votes',\n",
    "                   text='Votes',\n",
    "                   color_discrete_sequence = ['#F63366']*len(df_grouped),\n",
    "                   template= 'plotly_white')\n",
    "st.plotly_chart(bar_chart)"
   ]
  },
  {
   "cell_type": "code",
   "execution_count": 12,
   "metadata": {},
   "outputs": [
    {
     "data": {
      "text/plain": [
       "DeltaGenerator(_root_container=0, _provided_cursor=None, _parent=None, _block_type=None, _form_data=None)"
      ]
     },
     "execution_count": 12,
     "metadata": {},
     "output_type": "execute_result"
    }
   ],
   "source": [
    "# --- DISPLAY IMAGE & DATAFRAME\n",
    "col1, col2 = st.columns(2)\n",
    "image = Image.open('images/survey.jpg')\n",
    "col1.image(image,\n",
    "        caption='Designed by slidesgo / Freepik',\n",
    "        use_column_width=True)\n",
    "col2.dataframe(df[mask])"
   ]
  },
  {
   "cell_type": "code",
   "execution_count": 14,
   "metadata": {},
   "outputs": [
    {
     "data": {
      "text/plain": [
       "DeltaGenerator(_root_container=0, _provided_cursor=None, _parent=None, _block_type=None, _form_data=None)"
      ]
     },
     "execution_count": 14,
     "metadata": {},
     "output_type": "execute_result"
    }
   ],
   "source": [
    "# --- PLOT PIE CHART\n",
    "pie_chart = px.pie(df_participants,\n",
    "                title='Total No. of Participants',\n",
    "                values='Participants',\n",
    "                names='Departments')\n",
    "\n",
    "st.plotly_chart(pie_chart)"
   ]
  },
  {
   "cell_type": "code",
   "execution_count": null,
   "metadata": {},
   "outputs": [],
   "source": []
  }
 ],
 "metadata": {
  "kernelspec": {
   "display_name": "Python 3.9.5 64-bit",
   "language": "python",
   "name": "python3"
  },
  "language_info": {
   "codemirror_mode": {
    "name": "ipython",
    "version": 3
   },
   "file_extension": ".py",
   "mimetype": "text/x-python",
   "name": "python",
   "nbconvert_exporter": "python",
   "pygments_lexer": "ipython3",
   "version": "3.9.5"
  },
  "orig_nbformat": 4,
  "vscode": {
   "interpreter": {
    "hash": "11938c6bc6919ae2720b4d5011047913343b08a43b18698fd82dedb0d4417594"
   }
  }
 },
 "nbformat": 4,
 "nbformat_minor": 2
}
